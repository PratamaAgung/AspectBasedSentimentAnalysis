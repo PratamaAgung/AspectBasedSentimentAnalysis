{
 "cells": [
  {
   "cell_type": "code",
   "execution_count": null,
   "metadata": {},
   "outputs": [],
   "source": [
    "from gensim.corpora import WikiCorpus\n",
    "\n",
    "out_file = 'wiki_corpus.txt'"
   ]
  },
  {
   "cell_type": "code",
   "execution_count": 2,
   "metadata": {},
   "outputs": [
    {
     "name": "stdout",
     "output_type": "stream",
     "text": [
      "Saved 10000 articles\n",
      "Saved 20000 articles\n",
      "Saved 30000 articles\n",
      "Saved 40000 articles\n",
      "Saved 50000 articles\n",
      "Saved 60000 articles\n",
      "Saved 70000 articles\n",
      "Saved 80000 articles\n",
      "Saved 90000 articles\n",
      "Saved 100000 articles\n",
      "Saved 110000 articles\n",
      "Saved 120000 articles\n",
      "Saved 130000 articles\n",
      "Saved 140000 articles\n",
      "Saved 150000 articles\n",
      "Saved 160000 articles\n",
      "Saved 170000 articles\n",
      "Saved 180000 articles\n",
      "Saved 190000 articles\n",
      "Saved 200000 articles\n",
      "Saved 210000 articles\n",
      "Saved 220000 articles\n",
      "Saved 230000 articles\n",
      "Saved 240000 articles\n",
      "Saved 250000 articles\n",
      "Saved 260000 articles\n",
      "Saved 270000 articles\n",
      "Saved 280000 articles\n",
      "Saved 290000 articles\n",
      "Saved 300000 articles\n",
      "Saved 310000 articles\n",
      "Saved 320000 articles\n",
      "Saved 330000 articles\n",
      "Saved 340000 articles\n"
     ]
    }
   ],
   "source": [
    "i = 0\n",
    "with open(out_file, 'w') as handle_write:\n",
    "    wiki = WikiCorpus('idwiki-latest-pages-articles.xml.bz2', lemmatize= False, dictionary= {}, lower= True)\n",
    "    for text in wiki.get_texts():\n",
    "        handle_write.write(' '.join(text) + '\\n')\n",
    "        i = i + 1\n",
    "        if i % 10000 == 0:\n",
    "            print(\"Saved \" + str(i) + \" articles\")"
   ]
  },
  {
   "cell_type": "code",
   "execution_count": null,
   "metadata": {},
   "outputs": [],
   "source": [
    "from gensim.models.doc2vec import Doc2Vec, TaggedDocument\n",
    "from gensim.test.utils import get_tmpfile\n",
    "\n",
    "with open(out_file, 'r') as handle_read:\n",
    "    content = handle_read.readlines()\n",
    "\n",
    "documents = []\n",
    "for i, doc in enumerate(content):\n",
    "    documents.append(TaggedDocument(doc.strip().split(' '), [i]))\n",
    "\n",
    "model = Doc2Vec(documents, vector_size=1000, window=10, min_count=5, workers=1, epochs= 2)\n",
    "\n",
    "fname = get_tmpfile(\"wiki_doc2vec.model\")\n",
    "model.save(fname)"
   ]
  }
 ],
 "metadata": {
  "kernelspec": {
   "display_name": "Python 3",
   "language": "python",
   "name": "python3"
  },
  "language_info": {
   "codemirror_mode": {
    "name": "ipython",
    "version": 3
   },
   "file_extension": ".py",
   "mimetype": "text/x-python",
   "name": "python",
   "nbconvert_exporter": "python",
   "pygments_lexer": "ipython3",
   "version": "3.5.2"
  }
 },
 "nbformat": 4,
 "nbformat_minor": 2
}
